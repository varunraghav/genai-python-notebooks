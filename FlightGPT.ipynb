{
 "cells": [
  {
   "cell_type": "code",
   "execution_count": 1,
   "id": "274cf0fa-db8c-4d13-9b5d-07bc1eec1147",
   "metadata": {},
   "outputs": [],
   "source": [
    "import pandas as pd\n",
    "import os\n",
    "import json\n",
    "from dotenv import load_dotenv\n",
    "from openai import OpenAI\n",
    "import gradio as gr"
   ]
  },
  {
   "cell_type": "code",
   "execution_count": 2,
   "id": "4b80894e-570a-47e1-8382-b10fca3a373a",
   "metadata": {},
   "outputs": [],
   "source": [
    "# Initialization\n",
    "\n",
    "load_dotenv()\n",
    "os.environ['OPENAI_API_KEY'] = os.getenv('OPENAI_API_KEY', 'your-key-if-not-using-env')\n",
    "MODEL = \"gpt-4o-mini\"\n",
    "openai = OpenAI()"
   ]
  },
  {
   "cell_type": "code",
   "execution_count": 3,
   "id": "f96e33b4-4821-4083-81c7-1b12bf301085",
   "metadata": {},
   "outputs": [],
   "source": [
    "# Load the flight prices from Excel\n",
    "flight_data = pd.read_excel(\"RandomFlightPrices.xlsx\")"
   ]
  },
  {
   "cell_type": "code",
   "execution_count": 4,
   "id": "d05034d7-0a89-4ed4-a554-5252a2624826",
   "metadata": {},
   "outputs": [],
   "source": [
    "system_message = \"You are a helpful assistant for an Airline called FlightAI. \"\n",
    "system_message += \"Give short, courteous answers, no more than 1 sentence. \"\n",
    "system_message += \"Today's date is October 4, 2024. For any date calculations, use this. Assume year is 2024 if not mentioned\"\n",
    "system_message += \"Always be accurate. If you don't know the answer, say so.\""
   ]
  },
  {
   "cell_type": "code",
   "execution_count": 5,
   "id": "b0e863c1-67b7-4321-8f71-7259f991f907",
   "metadata": {},
   "outputs": [],
   "source": [
    "def find_cheapest_route(from_city, to_city, date, max_stops=2, current_route=None, visited=None):\n",
    "    if visited is None:\n",
    "        visited = set()\n",
    "    if current_route is None:\n",
    "        current_route = []\n",
    "    \n",
    "    # Mark this city as visited to avoid infinite loops\n",
    "    visited.add(from_city)\n",
    "\n",
    "    # Check for direct flights\n",
    "    direct_flight = flight_data[\n",
    "        (flight_data['From'].str.lower() == from_city.lower()) &\n",
    "        (flight_data['To'].str.lower() == to_city.lower()) &\n",
    "        (flight_data['Date'] == date)\n",
    "    ]\n",
    "    \n",
    "    if not direct_flight.empty:\n",
    "        min_price = direct_flight['Min Price'].min()\n",
    "        return {\"route\": current_route + [(from_city, to_city)], \"price\": min_price}\n",
    "    \n",
    "    if max_stops == 0:\n",
    "        return None  # No more stops allowed\n",
    "\n",
    "    # Search for connecting flights\n",
    "    connections = flight_data[\n",
    "        (flight_data['From'].str.lower() == from_city.lower()) &\n",
    "        (~flight_data['To'].str.lower().isin(visited)) &\n",
    "        (flight_data['Date'] == date)\n",
    "    ]\n",
    "\n",
    "    cheapest_route = None\n",
    "\n",
    "    for _, flight in connections.iterrows():\n",
    "        next_city = flight['To']\n",
    "        price = flight['Min Price']\n",
    "\n",
    "        # Recursively search for flights from this next city to the final destination\n",
    "        result = find_cheapest_route(next_city, to_city, date, max_stops - 1, current_route + [(from_city, next_city)], visited.copy())\n",
    "        \n",
    "        if result:\n",
    "            total_price = price + result[\"price\"]\n",
    "            if cheapest_route is None or total_price < cheapest_route[\"price\"]:\n",
    "                cheapest_route = {\"route\": result[\"route\"], \"price\": total_price}\n",
    "\n",
    "    return cheapest_route\n"
   ]
  },
  {
   "cell_type": "code",
   "execution_count": 7,
   "id": "f5071487-112e-4a3f-a706-ec53d1c244f6",
   "metadata": {},
   "outputs": [],
   "source": [
    "# Function to get the cheapest flight, checking for multi-leg routes\n",
    "def get_cheapest_flight(from_city, to_city, date):\n",
    "    result = find_cheapest_route(from_city, to_city, date, max_stops=3)  # Allow up to 3 stops\n",
    "    if result:\n",
    "        route = \" → \".join([f\"{from_}-{to_}\" for from_, to_ in result[\"route\"]])\n",
    "        return f\"The cheapest route from {from_city} to {to_city} on {date} is: {route}, costing ${result['price']}\"\n",
    "    else:\n",
    "        return f\"No routes found from {from_city} to {to_city} on {date}.\""
   ]
  },
  {
   "cell_type": "code",
   "execution_count": 8,
   "id": "307a8c5c-0d40-4b55-bf1b-a83ba8affbeb",
   "metadata": {},
   "outputs": [
    {
     "data": {
      "text/plain": [
       "'The cheapest route from dallas to kochi on 10/12/2024 is: dallas-London → London-Qatar → Qatar-kochi, costing $372'"
      ]
     },
     "execution_count": 8,
     "metadata": {},
     "output_type": "execute_result"
    }
   ],
   "source": [
    "get_cheapest_flight('dallas', 'kochi', '10/12/2024')"
   ]
  },
  {
   "cell_type": "markdown",
   "id": "1fd79e59-096d-4cf7-999a-316d9ef201ac",
   "metadata": {},
   "source": [
    "## List All Flights on a Given Day\n",
    "We can write a function that returns all flights available on a particular day. This function will filter the flight data for a given date and return a list of all possible routes with their prices."
   ]
  },
  {
   "cell_type": "code",
   "execution_count": 14,
   "id": "11b06327-f7e9-4f79-9d2d-be55bbf0d0fd",
   "metadata": {},
   "outputs": [],
   "source": [
    "def list_all_flights_on_date(from_city, to_city, date):\n",
    "    flights = flight_data[\n",
    "        (flight_data['From'].str.lower() == from_city.lower()) &\n",
    "        (flight_data['To'].str.lower() == to_city.lower()) &\n",
    "        (flight_data['Date'] == date)\n",
    "    ]\n",
    "    \n",
    "    if flights.empty:\n",
    "        return f\"No flights available from {from_city} to {to_city} on {date}.\"\n",
    "    \n",
    "    flight_list = []\n",
    "    for _, flight in flights.iterrows():\n",
    "        flight_list.append(f\"Flight from {flight['From']} to {flight['To']} costs ${flight['Min Price']}.\")\n",
    "    \n",
    "    return \"Available flights: \\n\" + \"\\n\".join(flight_list)\n"
   ]
  },
  {
   "cell_type": "markdown",
   "id": "318ce5d7-f2a8-4e51-b384-86cab1df95b4",
   "metadata": {},
   "source": [
    "## Find the Cheapest Flight Around a Date Range\n",
    "For this, we can extend the query to search for the cheapest flight within a range of dates (e.g., 5 days around a given date)."
   ]
  },
  {
   "cell_type": "code",
   "execution_count": 15,
   "id": "dd126d76-fd17-4098-a092-a3423ddcc3ee",
   "metadata": {},
   "outputs": [],
   "source": [
    "def find_cheapest_flight_around_date(from_city, to_city, base_date, date_range=2):\n",
    "    # Convert base date to datetime for easier manipulation\n",
    "    base_date = pd.to_datetime(base_date)\n",
    "    start_date = base_date - pd.Timedelta(days=date_range)\n",
    "    end_date = base_date + pd.Timedelta(days=date_range)\n",
    "    \n",
    "    flights = flight_data[\n",
    "        (flight_data['From'].str.lower() == from_city.lower()) &\n",
    "        (flight_data['To'].str.lower() == to_city.lower()) &\n",
    "        (flight_data['Date'] >= start_date) &\n",
    "        (flight_data['Date'] <= end_date)\n",
    "    ]\n",
    "    \n",
    "    if flights.empty:\n",
    "        return f\"No flights available from {from_city} to {to_city} between {start_date.date()} and {end_date.date()}.\"\n",
    "    \n",
    "    cheapest_flight = flights.loc[flights['Min Price'].idxmin()]\n",
    "    return (f\"The cheapest flight from {from_city} to {to_city} between {start_date.date()} and {end_date.date()} \"\n",
    "            f\"is on {cheapest_flight['Date'].date()} with a price of ${cheapest_flight['Min Price']}.\")\n"
   ]
  },
  {
   "cell_type": "markdown",
   "id": "ee737014-d22a-4abe-b7c3-da285a124614",
   "metadata": {},
   "source": [
    "#### price_function is a dictionary structure \n",
    "that describes the get_ticket_price function. This dictionary includes metadata such as the function's name, a description of what it does, and the parameters it expects.\n",
    "The tools list holds this function description to allow the assistant to use it when a user asks about ticket prices."
   ]
  },
  {
   "cell_type": "code",
   "execution_count": 9,
   "id": "135f1713-2e9d-494b-92c3-192c3881b1b7",
   "metadata": {},
   "outputs": [],
   "source": [
    "# Define the tool to describe the function\n",
    "price_function = {\n",
    "    \"name\": \"get_cheapest_flight\",\n",
    "    \"description\": \"Get the cheapest price for a return ticket from one city to another, considering layovers if necessary.\",\n",
    "    \"parameters\": {\n",
    "        \"type\": \"object\",\n",
    "        \"properties\": {\n",
    "            \"from_city\": {\n",
    "                \"type\": \"string\",\n",
    "                \"description\": \"The city the customer wants to depart from\",\n",
    "            },\n",
    "            \"to_city\": {\n",
    "                \"type\": \"string\",\n",
    "                \"description\": \"The destination city the customer wants to travel to\",\n",
    "            },\n",
    "            \"date\": {\n",
    "                \"type\": \"string\",\n",
    "                \"description\": \"The date of the flight in YYYY-MM-DD format\",\n",
    "            },\n",
    "        },\n",
    "        \"required\": [\"from_city\", \"to_city\", \"date\"],\n",
    "        \"additionalProperties\": False\n",
    "    }\n",
    "}"
   ]
  },
  {
   "cell_type": "code",
   "execution_count": 10,
   "id": "2afd5000-e594-47b5-8790-e5ccbe0a8d7d",
   "metadata": {},
   "outputs": [],
   "source": [
    "# Include the tool in the list of tools\n",
    "tools = [{\"type\": \"function\", \"function\": price_function}]"
   ]
  },
  {
   "cell_type": "markdown",
   "id": "73a8ca97-20a6-48bb-80fc-88e03433f7da",
   "metadata": {},
   "source": [
    "## Getting OpenAI to use our Tool\n",
    "There's some fiddly stuff to allow OpenAI \"to call our tool\"\n",
    "\n",
    "What we actually do is give the LLM the opportunity to inform us that it wants us to run the tool. If the model determines that a tool should be called, the function handle_tool_call is triggered.\n",
    "\n",
    "Here's how the function looks:"
   ]
  },
  {
   "cell_type": "code",
   "execution_count": 27,
   "id": "07f180b6-7ef8-46fe-937c-6f2cd819705b",
   "metadata": {},
   "outputs": [],
   "source": [
    "def chat(message, history):\n",
    "    messages = [{\"role\": \"system\", \"content\": system_message}]\n",
    "    for human, assistant in history:\n",
    "        messages.append({\"role\": \"user\", \"content\": human})\n",
    "        messages.append({\"role\": \"assistant\", \"content\": assistant})\n",
    "    messages.append({\"role\": \"user\", \"content\": message})\n",
    "    \n",
    "    response = openai.chat.completions.create(model=MODEL, messages=messages, tools=tools)\n",
    "\n",
    "    if response.choices[0].finish_reason == \"tool_calls\":\n",
    "        message = response.choices[0].message\n",
    "        response, (from_city, to_city, date) = handle_tool_call(message)\n",
    "        messages.append(message)\n",
    "        messages.append(response)\n",
    "        response = openai.chat.completions.create(model=MODEL, messages=messages)\n",
    "    \n",
    "    return response.choices[0].message.content"
   ]
  },
  {
   "cell_type": "code",
   "execution_count": 28,
   "id": "6122fe05-b3b2-4b26-bcc6-62f02ca84d91",
   "metadata": {},
   "outputs": [],
   "source": [
    "# Handle tool calls\n",
    "def handle_tool_call(message):\n",
    "    tool_call = message.tool_calls[0]\n",
    "    arguments = json.loads(tool_call.function.arguments)\n",
    "    from_city = arguments.get('from_city')\n",
    "    to_city = arguments.get('to_city')\n",
    "    date = arguments.get('date')\n",
    "    \n",
    "    price = get_cheapest_flight(from_city, to_city, date)\n",
    "    \n",
    "    response = {\n",
    "        \"role\": \"tool\",\n",
    "        \"content\": json.dumps({\"from_city\": from_city, \"to_city\": to_city, \"date\": date, \"price\": price}),\n",
    "        \"tool_call_id\": message.tool_calls[0].id\n",
    "    }\n",
    "    return response, (from_city, to_city, date)"
   ]
  },
  {
   "cell_type": "code",
   "execution_count": 29,
   "id": "4cedd401-d5ae-4a50-978f-0b3536f10efb",
   "metadata": {},
   "outputs": [
    {
     "name": "stdout",
     "output_type": "stream",
     "text": [
      "Running on local URL:  http://127.0.0.1:7897\n",
      "Running on public URL: https://8ac5652ca8d4191fe0.gradio.live\n",
      "\n",
      "This share link expires in 72 hours. For free permanent hosting and GPU upgrades, run `gradio deploy` from Terminal to deploy to Spaces (https://huggingface.co/spaces)\n"
     ]
    },
    {
     "data": {
      "text/html": [
       "<div><iframe src=\"https://8ac5652ca8d4191fe0.gradio.live\" width=\"100%\" height=\"500\" allow=\"autoplay; camera; microphone; clipboard-read; clipboard-write;\" frameborder=\"0\" allowfullscreen></iframe></div>"
      ],
      "text/plain": [
       "<IPython.core.display.HTML object>"
      ]
     },
     "metadata": {},
     "output_type": "display_data"
    },
    {
     "data": {
      "text/plain": []
     },
     "execution_count": 29,
     "metadata": {},
     "output_type": "execute_result"
    }
   ],
   "source": [
    "gr.ChatInterface(fn=chat).launch(share=True)"
   ]
  },
  {
   "cell_type": "code",
   "execution_count": null,
   "id": "2afd622b-cfe9-4d18-ab56-3b0e58a499f0",
   "metadata": {},
   "outputs": [],
   "source": []
  }
 ],
 "metadata": {
  "kernelspec": {
   "display_name": "Python 3 (ipykernel)",
   "language": "python",
   "name": "python3"
  },
  "language_info": {
   "codemirror_mode": {
    "name": "ipython",
    "version": 3
   },
   "file_extension": ".py",
   "mimetype": "text/x-python",
   "name": "python",
   "nbconvert_exporter": "python",
   "pygments_lexer": "ipython3",
   "version": "3.11.10"
  }
 },
 "nbformat": 4,
 "nbformat_minor": 5
}
